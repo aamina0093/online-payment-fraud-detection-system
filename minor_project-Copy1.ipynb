{
 "cells": [
  {
   "cell_type": "markdown",
   "id": "3a8d9da5",
   "metadata": {},
   "source": [
    "# ONLINE PAYMENT FRAUD DETECTION SYSTEM"
   ]
  },
  {
   "cell_type": "code",
   "execution_count": 1,
   "id": "222d526f",
   "metadata": {},
   "outputs": [],
   "source": [
    "# import libraries\n",
    "import numpy as np\n",
    "import pandas as pd\n",
    "import matplotlib.pyplot as plt\n",
    "import seaborn as sns\n",
    "%matplotlib inline"
   ]
  },
  {
   "cell_type": "code",
   "execution_count": 2,
   "id": "0c0a7359",
   "metadata": {},
   "outputs": [
    {
     "data": {
      "text/html": [
       "<div>\n",
       "<style scoped>\n",
       "    .dataframe tbody tr th:only-of-type {\n",
       "        vertical-align: middle;\n",
       "    }\n",
       "\n",
       "    .dataframe tbody tr th {\n",
       "        vertical-align: top;\n",
       "    }\n",
       "\n",
       "    .dataframe thead th {\n",
       "        text-align: right;\n",
       "    }\n",
       "</style>\n",
       "<table border=\"1\" class=\"dataframe\">\n",
       "  <thead>\n",
       "    <tr style=\"text-align: right;\">\n",
       "      <th></th>\n",
       "      <th>step</th>\n",
       "      <th>type</th>\n",
       "      <th>amount</th>\n",
       "      <th>nameOrig</th>\n",
       "      <th>oldbalanceOrg</th>\n",
       "      <th>newbalanceOrig</th>\n",
       "      <th>nameDest</th>\n",
       "      <th>oldbalanceDest</th>\n",
       "      <th>newbalanceDest</th>\n",
       "      <th>isFraud</th>\n",
       "      <th>isFlaggedFraud</th>\n",
       "    </tr>\n",
       "  </thead>\n",
       "  <tbody>\n",
       "    <tr>\n",
       "      <th>0</th>\n",
       "      <td>1</td>\n",
       "      <td>PAYMENT</td>\n",
       "      <td>9839.64</td>\n",
       "      <td>C1231006815</td>\n",
       "      <td>170136.0</td>\n",
       "      <td>160296.36</td>\n",
       "      <td>M1979787155</td>\n",
       "      <td>0.0</td>\n",
       "      <td>0.0</td>\n",
       "      <td>0</td>\n",
       "      <td>0</td>\n",
       "    </tr>\n",
       "    <tr>\n",
       "      <th>1</th>\n",
       "      <td>1</td>\n",
       "      <td>PAYMENT</td>\n",
       "      <td>1864.28</td>\n",
       "      <td>C1666544295</td>\n",
       "      <td>21249.0</td>\n",
       "      <td>19384.72</td>\n",
       "      <td>M2044282225</td>\n",
       "      <td>0.0</td>\n",
       "      <td>0.0</td>\n",
       "      <td>0</td>\n",
       "      <td>0</td>\n",
       "    </tr>\n",
       "    <tr>\n",
       "      <th>2</th>\n",
       "      <td>1</td>\n",
       "      <td>TRANSFER</td>\n",
       "      <td>181.00</td>\n",
       "      <td>C1305486145</td>\n",
       "      <td>181.0</td>\n",
       "      <td>0.00</td>\n",
       "      <td>C553264065</td>\n",
       "      <td>0.0</td>\n",
       "      <td>0.0</td>\n",
       "      <td>1</td>\n",
       "      <td>0</td>\n",
       "    </tr>\n",
       "    <tr>\n",
       "      <th>3</th>\n",
       "      <td>1</td>\n",
       "      <td>CASH_OUT</td>\n",
       "      <td>181.00</td>\n",
       "      <td>C840083671</td>\n",
       "      <td>181.0</td>\n",
       "      <td>0.00</td>\n",
       "      <td>C38997010</td>\n",
       "      <td>21182.0</td>\n",
       "      <td>0.0</td>\n",
       "      <td>1</td>\n",
       "      <td>0</td>\n",
       "    </tr>\n",
       "    <tr>\n",
       "      <th>4</th>\n",
       "      <td>1</td>\n",
       "      <td>PAYMENT</td>\n",
       "      <td>11668.14</td>\n",
       "      <td>C2048537720</td>\n",
       "      <td>41554.0</td>\n",
       "      <td>29885.86</td>\n",
       "      <td>M1230701703</td>\n",
       "      <td>0.0</td>\n",
       "      <td>0.0</td>\n",
       "      <td>0</td>\n",
       "      <td>0</td>\n",
       "    </tr>\n",
       "  </tbody>\n",
       "</table>\n",
       "</div>"
      ],
      "text/plain": [
       "   step      type    amount     nameOrig  oldbalanceOrg  newbalanceOrig  \\\n",
       "0     1   PAYMENT   9839.64  C1231006815       170136.0       160296.36   \n",
       "1     1   PAYMENT   1864.28  C1666544295        21249.0        19384.72   \n",
       "2     1  TRANSFER    181.00  C1305486145          181.0            0.00   \n",
       "3     1  CASH_OUT    181.00   C840083671          181.0            0.00   \n",
       "4     1   PAYMENT  11668.14  C2048537720        41554.0        29885.86   \n",
       "\n",
       "      nameDest  oldbalanceDest  newbalanceDest  isFraud  isFlaggedFraud  \n",
       "0  M1979787155             0.0             0.0        0               0  \n",
       "1  M2044282225             0.0             0.0        0               0  \n",
       "2   C553264065             0.0             0.0        1               0  \n",
       "3    C38997010         21182.0             0.0        1               0  \n",
       "4  M1230701703             0.0             0.0        0               0  "
      ]
     },
     "execution_count": 2,
     "metadata": {},
     "output_type": "execute_result"
    }
   ],
   "source": [
    "# import dataset\n",
    "data = pd.read_csv('dataset.csv')\n",
    "data.head()"
   ]
  },
  {
   "cell_type": "code",
   "execution_count": 3,
   "id": "25389066",
   "metadata": {},
   "outputs": [
    {
     "data": {
      "text/plain": [
       "(6362620, 11)"
      ]
     },
     "execution_count": 3,
     "metadata": {},
     "output_type": "execute_result"
    }
   ],
   "source": [
    "data.shape"
   ]
  },
  {
   "cell_type": "code",
   "execution_count": 4,
   "id": "72aa3123",
   "metadata": {},
   "outputs": [
    {
     "name": "stdout",
     "output_type": "stream",
     "text": [
      "<class 'pandas.core.frame.DataFrame'>\n",
      "RangeIndex: 6362620 entries, 0 to 6362619\n",
      "Data columns (total 11 columns):\n",
      " #   Column          Dtype  \n",
      "---  ------          -----  \n",
      " 0   step            int64  \n",
      " 1   type            object \n",
      " 2   amount          float64\n",
      " 3   nameOrig        object \n",
      " 4   oldbalanceOrg   float64\n",
      " 5   newbalanceOrig  float64\n",
      " 6   nameDest        object \n",
      " 7   oldbalanceDest  float64\n",
      " 8   newbalanceDest  float64\n",
      " 9   isFraud         int64  \n",
      " 10  isFlaggedFraud  int64  \n",
      "dtypes: float64(5), int64(3), object(3)\n",
      "memory usage: 534.0+ MB\n"
     ]
    }
   ],
   "source": [
    "# information of the data\n",
    "data.info()"
   ]
  },
  {
   "cell_type": "code",
   "execution_count": 5,
   "id": "6d4c82b8",
   "metadata": {},
   "outputs": [
    {
     "data": {
      "text/html": [
       "<div>\n",
       "<style scoped>\n",
       "    .dataframe tbody tr th:only-of-type {\n",
       "        vertical-align: middle;\n",
       "    }\n",
       "\n",
       "    .dataframe tbody tr th {\n",
       "        vertical-align: top;\n",
       "    }\n",
       "\n",
       "    .dataframe thead th {\n",
       "        text-align: right;\n",
       "    }\n",
       "</style>\n",
       "<table border=\"1\" class=\"dataframe\">\n",
       "  <thead>\n",
       "    <tr style=\"text-align: right;\">\n",
       "      <th></th>\n",
       "      <th>step</th>\n",
       "      <th>amount</th>\n",
       "      <th>oldbalanceOrg</th>\n",
       "      <th>newbalanceOrig</th>\n",
       "      <th>oldbalanceDest</th>\n",
       "      <th>newbalanceDest</th>\n",
       "      <th>isFraud</th>\n",
       "      <th>isFlaggedFraud</th>\n",
       "    </tr>\n",
       "  </thead>\n",
       "  <tbody>\n",
       "    <tr>\n",
       "      <th>count</th>\n",
       "      <td>6.362620e+06</td>\n",
       "      <td>6.362620e+06</td>\n",
       "      <td>6.362620e+06</td>\n",
       "      <td>6.362620e+06</td>\n",
       "      <td>6.362620e+06</td>\n",
       "      <td>6.362620e+06</td>\n",
       "      <td>6.362620e+06</td>\n",
       "      <td>6.362620e+06</td>\n",
       "    </tr>\n",
       "    <tr>\n",
       "      <th>mean</th>\n",
       "      <td>2.433972e+02</td>\n",
       "      <td>1.798619e+05</td>\n",
       "      <td>8.338831e+05</td>\n",
       "      <td>8.551137e+05</td>\n",
       "      <td>1.100702e+06</td>\n",
       "      <td>1.224996e+06</td>\n",
       "      <td>1.290820e-03</td>\n",
       "      <td>2.514687e-06</td>\n",
       "    </tr>\n",
       "    <tr>\n",
       "      <th>std</th>\n",
       "      <td>1.423320e+02</td>\n",
       "      <td>6.038582e+05</td>\n",
       "      <td>2.888243e+06</td>\n",
       "      <td>2.924049e+06</td>\n",
       "      <td>3.399180e+06</td>\n",
       "      <td>3.674129e+06</td>\n",
       "      <td>3.590480e-02</td>\n",
       "      <td>1.585775e-03</td>\n",
       "    </tr>\n",
       "    <tr>\n",
       "      <th>min</th>\n",
       "      <td>1.000000e+00</td>\n",
       "      <td>0.000000e+00</td>\n",
       "      <td>0.000000e+00</td>\n",
       "      <td>0.000000e+00</td>\n",
       "      <td>0.000000e+00</td>\n",
       "      <td>0.000000e+00</td>\n",
       "      <td>0.000000e+00</td>\n",
       "      <td>0.000000e+00</td>\n",
       "    </tr>\n",
       "    <tr>\n",
       "      <th>25%</th>\n",
       "      <td>1.560000e+02</td>\n",
       "      <td>1.338957e+04</td>\n",
       "      <td>0.000000e+00</td>\n",
       "      <td>0.000000e+00</td>\n",
       "      <td>0.000000e+00</td>\n",
       "      <td>0.000000e+00</td>\n",
       "      <td>0.000000e+00</td>\n",
       "      <td>0.000000e+00</td>\n",
       "    </tr>\n",
       "    <tr>\n",
       "      <th>50%</th>\n",
       "      <td>2.390000e+02</td>\n",
       "      <td>7.487194e+04</td>\n",
       "      <td>1.420800e+04</td>\n",
       "      <td>0.000000e+00</td>\n",
       "      <td>1.327057e+05</td>\n",
       "      <td>2.146614e+05</td>\n",
       "      <td>0.000000e+00</td>\n",
       "      <td>0.000000e+00</td>\n",
       "    </tr>\n",
       "    <tr>\n",
       "      <th>75%</th>\n",
       "      <td>3.350000e+02</td>\n",
       "      <td>2.087215e+05</td>\n",
       "      <td>1.073152e+05</td>\n",
       "      <td>1.442584e+05</td>\n",
       "      <td>9.430367e+05</td>\n",
       "      <td>1.111909e+06</td>\n",
       "      <td>0.000000e+00</td>\n",
       "      <td>0.000000e+00</td>\n",
       "    </tr>\n",
       "    <tr>\n",
       "      <th>max</th>\n",
       "      <td>7.430000e+02</td>\n",
       "      <td>9.244552e+07</td>\n",
       "      <td>5.958504e+07</td>\n",
       "      <td>4.958504e+07</td>\n",
       "      <td>3.560159e+08</td>\n",
       "      <td>3.561793e+08</td>\n",
       "      <td>1.000000e+00</td>\n",
       "      <td>1.000000e+00</td>\n",
       "    </tr>\n",
       "  </tbody>\n",
       "</table>\n",
       "</div>"
      ],
      "text/plain": [
       "               step        amount  oldbalanceOrg  newbalanceOrig  \\\n",
       "count  6.362620e+06  6.362620e+06   6.362620e+06    6.362620e+06   \n",
       "mean   2.433972e+02  1.798619e+05   8.338831e+05    8.551137e+05   \n",
       "std    1.423320e+02  6.038582e+05   2.888243e+06    2.924049e+06   \n",
       "min    1.000000e+00  0.000000e+00   0.000000e+00    0.000000e+00   \n",
       "25%    1.560000e+02  1.338957e+04   0.000000e+00    0.000000e+00   \n",
       "50%    2.390000e+02  7.487194e+04   1.420800e+04    0.000000e+00   \n",
       "75%    3.350000e+02  2.087215e+05   1.073152e+05    1.442584e+05   \n",
       "max    7.430000e+02  9.244552e+07   5.958504e+07    4.958504e+07   \n",
       "\n",
       "       oldbalanceDest  newbalanceDest       isFraud  isFlaggedFraud  \n",
       "count    6.362620e+06    6.362620e+06  6.362620e+06    6.362620e+06  \n",
       "mean     1.100702e+06    1.224996e+06  1.290820e-03    2.514687e-06  \n",
       "std      3.399180e+06    3.674129e+06  3.590480e-02    1.585775e-03  \n",
       "min      0.000000e+00    0.000000e+00  0.000000e+00    0.000000e+00  \n",
       "25%      0.000000e+00    0.000000e+00  0.000000e+00    0.000000e+00  \n",
       "50%      1.327057e+05    2.146614e+05  0.000000e+00    0.000000e+00  \n",
       "75%      9.430367e+05    1.111909e+06  0.000000e+00    0.000000e+00  \n",
       "max      3.560159e+08    3.561793e+08  1.000000e+00    1.000000e+00  "
      ]
     },
     "execution_count": 5,
     "metadata": {},
     "output_type": "execute_result"
    }
   ],
   "source": [
    "# mean, count , minimum and maximum values of the data\n",
    "data.describe()"
   ]
  },
  {
   "cell_type": "markdown",
   "id": "aa0ed158",
   "metadata": {},
   "source": [
    "# Data Visualization"
   ]
  },
  {
   "cell_type": "code",
   "execution_count": 6,
   "id": "350ece03",
   "metadata": {},
   "outputs": [
    {
     "name": "stdout",
     "output_type": "stream",
     "text": [
      "Categorical variables: 3\n",
      "Integer variables: 0\n",
      "Float variables: 5\n"
     ]
    }
   ],
   "source": [
    "# count the columns with different datatypes like Category, Integer, Float.\n",
    "obj = (data.dtypes == 'object')\n",
    "object_cols = list(obj[obj].index)\n",
    "print(\"Categorical variables:\", len(object_cols))\n",
    "\n",
    "int_ = (data.dtypes == 'int')\n",
    "num_cols = list(int_[int_].index)\n",
    "print(\"Integer variables:\", len(num_cols))\n",
    "\n",
    "fl = (data.dtypes == 'float')\n",
    "fl_cols = list(fl[fl].index)\n",
    "print(\"Float variables:\", len(fl_cols))"
   ]
  },
  {
   "cell_type": "code",
   "execution_count": 7,
   "id": "b66ee6a8",
   "metadata": {},
   "outputs": [
    {
     "data": {
      "text/plain": [
       "<Axes: xlabel='type', ylabel='count'>"
      ]
     },
     "execution_count": 7,
     "metadata": {},
     "output_type": "execute_result"
    },
    {
     "data": {
      "image/png": "[encoded data removed]",
      "text/plain": [
       "<Figure size 640x480 with 1 Axes>"
      ]
     },
     "metadata": {},
     "output_type": "display_data"
    }
   ],
   "source": [
    "# count plot of the Payment type column using Seaborn library.\n",
    "sns.countplot(x='type', data=data)"
   ]
  },
  {
   "cell_type": "code",
   "execution_count": 8,
   "id": "6d5bdbb6",
   "metadata": {},
   "outputs": [
    {
     "data": {
      "text/plain": [
       "<Axes: xlabel='type', ylabel='amount'>"
      ]
     },
     "execution_count": 8,
     "metadata": {},
     "output_type": "execute_result"
    },
    {
     "data": {
      "image/png": "[encoded data removed]",
      "text/plain": [
       "<Figure size 640x480 with 1 Axes>"
      ]
     },
     "metadata": {},
     "output_type": "display_data"
    }
   ],
   "source": [
    "# bar plot for analyzing Type and amount column simultaneously\n",
    "sns.barplot(x='type', y='amount', data=data)"
   ]
  },
  {
   "cell_type": "code",
   "execution_count": 9,
   "id": "2369ee87",
   "metadata": {},
   "outputs": [
    {
     "data": {
      "text/plain": [
       "0    6354407\n",
       "1       8213\n",
       "Name: isFraud, dtype: int64"
      ]
     },
     "execution_count": 9,
     "metadata": {},
     "output_type": "execute_result"
    }
   ],
   "source": [
    "# distribution of data among both the prediction values.\n",
    "data['isFraud'].value_counts()"
   ]
  },
  {
   "cell_type": "code",
   "execution_count": 10,
   "id": "32c7e66a",
   "metadata": {
    "scrolled": true
   },
   "outputs": [
    {
     "data": {
      "text/html": [
       "<div>\n",
       "<style scoped>\n",
       "    .dataframe tbody tr th:only-of-type {\n",
       "        vertical-align: middle;\n",
       "    }\n",
       "\n",
       "    .dataframe tbody tr th {\n",
       "        vertical-align: top;\n",
       "    }\n",
       "\n",
       "    .dataframe thead th {\n",
       "        text-align: right;\n",
       "    }\n",
       "</style>\n",
       "<table border=\"1\" class=\"dataframe\">\n",
       "  <thead>\n",
       "    <tr style=\"text-align: right;\">\n",
       "      <th></th>\n",
       "      <th>step</th>\n",
       "      <th>type</th>\n",
       "      <th>amount</th>\n",
       "      <th>nameOrig</th>\n",
       "      <th>oldbalanceOrg</th>\n",
       "      <th>newbalanceOrig</th>\n",
       "      <th>nameDest</th>\n",
       "      <th>oldbalanceDest</th>\n",
       "      <th>newbalanceDest</th>\n",
       "      <th>isFraud</th>\n",
       "      <th>isFlaggedFraud</th>\n",
       "    </tr>\n",
       "  </thead>\n",
       "  <tbody>\n",
       "    <tr>\n",
       "      <th>3671619</th>\n",
       "      <td>276</td>\n",
       "      <td>PAYMENT</td>\n",
       "      <td>11851.17</td>\n",
       "      <td>C362013023</td>\n",
       "      <td>0.00</td>\n",
       "      <td>0.00</td>\n",
       "      <td>M864297831</td>\n",
       "      <td>0.00</td>\n",
       "      <td>0.00</td>\n",
       "      <td>0</td>\n",
       "      <td>0</td>\n",
       "    </tr>\n",
       "    <tr>\n",
       "      <th>5184249</th>\n",
       "      <td>360</td>\n",
       "      <td>TRANSFER</td>\n",
       "      <td>172450.15</td>\n",
       "      <td>C2119994791</td>\n",
       "      <td>1419.00</td>\n",
       "      <td>0.00</td>\n",
       "      <td>C887295703</td>\n",
       "      <td>0.00</td>\n",
       "      <td>172450.15</td>\n",
       "      <td>0</td>\n",
       "      <td>0</td>\n",
       "    </tr>\n",
       "    <tr>\n",
       "      <th>1698794</th>\n",
       "      <td>159</td>\n",
       "      <td>CASH_IN</td>\n",
       "      <td>105927.46</td>\n",
       "      <td>C1694433495</td>\n",
       "      <td>6706007.65</td>\n",
       "      <td>6811935.11</td>\n",
       "      <td>C998143028</td>\n",
       "      <td>319597.58</td>\n",
       "      <td>213670.13</td>\n",
       "      <td>0</td>\n",
       "      <td>0</td>\n",
       "    </tr>\n",
       "    <tr>\n",
       "      <th>5019419</th>\n",
       "      <td>353</td>\n",
       "      <td>PAYMENT</td>\n",
       "      <td>12831.93</td>\n",
       "      <td>C2007383628</td>\n",
       "      <td>0.00</td>\n",
       "      <td>0.00</td>\n",
       "      <td>M401453758</td>\n",
       "      <td>0.00</td>\n",
       "      <td>0.00</td>\n",
       "      <td>0</td>\n",
       "      <td>0</td>\n",
       "    </tr>\n",
       "    <tr>\n",
       "      <th>3109042</th>\n",
       "      <td>235</td>\n",
       "      <td>PAYMENT</td>\n",
       "      <td>7262.12</td>\n",
       "      <td>C1318121248</td>\n",
       "      <td>0.00</td>\n",
       "      <td>0.00</td>\n",
       "      <td>M186981765</td>\n",
       "      <td>0.00</td>\n",
       "      <td>0.00</td>\n",
       "      <td>0</td>\n",
       "      <td>0</td>\n",
       "    </tr>\n",
       "    <tr>\n",
       "      <th>...</th>\n",
       "      <td>...</td>\n",
       "      <td>...</td>\n",
       "      <td>...</td>\n",
       "      <td>...</td>\n",
       "      <td>...</td>\n",
       "      <td>...</td>\n",
       "      <td>...</td>\n",
       "      <td>...</td>\n",
       "      <td>...</td>\n",
       "      <td>...</td>\n",
       "      <td>...</td>\n",
       "    </tr>\n",
       "    <tr>\n",
       "      <th>608259</th>\n",
       "      <td>34</td>\n",
       "      <td>TRANSFER</td>\n",
       "      <td>1234831.05</td>\n",
       "      <td>C1013319289</td>\n",
       "      <td>0.00</td>\n",
       "      <td>0.00</td>\n",
       "      <td>C570409417</td>\n",
       "      <td>1360242.97</td>\n",
       "      <td>2595074.03</td>\n",
       "      <td>0</td>\n",
       "      <td>0</td>\n",
       "    </tr>\n",
       "    <tr>\n",
       "      <th>765662</th>\n",
       "      <td>39</td>\n",
       "      <td>CASH_OUT</td>\n",
       "      <td>200648.38</td>\n",
       "      <td>C740061599</td>\n",
       "      <td>9562.00</td>\n",
       "      <td>0.00</td>\n",
       "      <td>C1312135910</td>\n",
       "      <td>1214916.15</td>\n",
       "      <td>1415564.53</td>\n",
       "      <td>0</td>\n",
       "      <td>0</td>\n",
       "    </tr>\n",
       "    <tr>\n",
       "      <th>4231448</th>\n",
       "      <td>306</td>\n",
       "      <td>CASH_IN</td>\n",
       "      <td>162569.20</td>\n",
       "      <td>C795286075</td>\n",
       "      <td>25877485.76</td>\n",
       "      <td>26040054.96</td>\n",
       "      <td>C1937064278</td>\n",
       "      <td>230195.30</td>\n",
       "      <td>67626.10</td>\n",
       "      <td>0</td>\n",
       "      <td>0</td>\n",
       "    </tr>\n",
       "    <tr>\n",
       "      <th>4673231</th>\n",
       "      <td>331</td>\n",
       "      <td>CASH_IN</td>\n",
       "      <td>149747.65</td>\n",
       "      <td>C1223134757</td>\n",
       "      <td>639.00</td>\n",
       "      <td>150386.65</td>\n",
       "      <td>C951542426</td>\n",
       "      <td>210349.46</td>\n",
       "      <td>60601.82</td>\n",
       "      <td>0</td>\n",
       "      <td>0</td>\n",
       "    </tr>\n",
       "    <tr>\n",
       "      <th>243133</th>\n",
       "      <td>14</td>\n",
       "      <td>CASH_OUT</td>\n",
       "      <td>50805.41</td>\n",
       "      <td>C448347851</td>\n",
       "      <td>686787.00</td>\n",
       "      <td>635981.59</td>\n",
       "      <td>C433582290</td>\n",
       "      <td>156293.84</td>\n",
       "      <td>294733.09</td>\n",
       "      <td>0</td>\n",
       "      <td>0</td>\n",
       "    </tr>\n",
       "  </tbody>\n",
       "</table>\n",
       "<p>1590655 rows × 11 columns</p>\n",
       "</div>"
      ],
      "text/plain": [
       "         step      type      amount     nameOrig  oldbalanceOrg  \\\n",
       "3671619   276   PAYMENT    11851.17   C362013023           0.00   \n",
       "5184249   360  TRANSFER   172450.15  C2119994791        1419.00   \n",
       "1698794   159   CASH_IN   105927.46  C1694433495     6706007.65   \n",
       "5019419   353   PAYMENT    12831.93  C2007383628           0.00   \n",
       "3109042   235   PAYMENT     7262.12  C1318121248           0.00   \n",
       "...       ...       ...         ...          ...            ...   \n",
       "608259     34  TRANSFER  1234831.05  C1013319289           0.00   \n",
       "765662     39  CASH_OUT   200648.38   C740061599        9562.00   \n",
       "4231448   306   CASH_IN   162569.20   C795286075    25877485.76   \n",
       "4673231   331   CASH_IN   149747.65  C1223134757         639.00   \n",
       "243133     14  CASH_OUT    50805.41   C448347851      686787.00   \n",
       "\n",
       "         newbalanceOrig     nameDest  oldbalanceDest  newbalanceDest  isFraud  \\\n",
       "3671619            0.00   M864297831            0.00            0.00        0   \n",
       "5184249            0.00   C887295703            0.00       172450.15        0   \n",
       "1698794      6811935.11   C998143028       319597.58       213670.13        0   \n",
       "5019419            0.00   M401453758            0.00            0.00        0   \n",
       "3109042            0.00   M186981765            0.00            0.00        0   \n",
       "...                 ...          ...             ...             ...      ...   \n",
       "608259             0.00   C570409417      1360242.97      2595074.03        0   \n",
       "765662             0.00  C1312135910      1214916.15      1415564.53        0   \n",
       "4231448     26040054.96  C1937064278       230195.30        67626.10        0   \n",
       "4673231       150386.65   C951542426       210349.46        60601.82        0   \n",
       "243133        635981.59   C433582290       156293.84       294733.09        0   \n",
       "\n",
       "         isFlaggedFraud  \n",
       "3671619               0  \n",
       "5184249               0  \n",
       "1698794               0  \n",
       "5019419               0  \n",
       "3109042               0  \n",
       "...                 ...  \n",
       "608259                0  \n",
       "765662                0  \n",
       "4231448               0  \n",
       "4673231               0  \n",
       "243133                0  \n",
       "\n",
       "[1590655 rows x 11 columns]"
      ]
     },
     "execution_count": 10,
     "metadata": {},
     "output_type": "execute_result"
    }
   ],
   "source": [
    "# Generating 25% sample of data frame\n",
    "row1 = data.sample(frac = .25) \n",
    "row1"
   ]
  },
  {
   "cell_type": "code",
   "execution_count": 12,
   "id": "56ffc717",
   "metadata": {},
   "outputs": [
    {
     "name": "stderr",
     "output_type": "stream",
     "text": [
      "C:\\Users\\Aamina Akbar\\AppData\\Local\\Temp\\ipykernel_19772\\131853721.py:3: FutureWarning: The default value of numeric_only in DataFrame.corr is deprecated. In a future version, it will default to False. Select only valid columns or specify the value of numeric_only to silence this warning.\n",
      "  sns.heatmap(data.corr(),\n"
     ]
    },
    {
     "data": {
      "text/plain": [
       "<Axes: >"
      ]
     },
     "execution_count": 12,
     "metadata": {},
     "output_type": "execute_result"
    },
    {
     "data": {
      "image/png": "[encoded data removed]",
      "text/plain": [
       "<Figure size 1200x600 with 2 Axes>"
      ]
     },
     "metadata": {},
     "output_type": "display_data"
    }
   ],
   "source": [
    "# correlation among different features using Heatmap.\n",
    "plt.figure(figsize=(12, 6))\n",
    "sns.heatmap(data.corr(),\n",
    "            cmap='BrBG',\n",
    "            fmt='.2f',\n",
    "            linewidths=2,\n",
    "            annot=True)"
   ]
  },
  {
   "cell_type": "markdown",
   "id": "6c363a76",
   "metadata": {},
   "source": [
    "# Data Preprocessing"
   ]
  },
  {
   "cell_type": "code",
   "execution_count": 13,
   "id": "bf9678f1",
   "metadata": {},
   "outputs": [
    {
     "data": {
      "text/html": [
       "<div>\n",
       "<style scoped>\n",
       "    .dataframe tbody tr th:only-of-type {\n",
       "        vertical-align: middle;\n",
       "    }\n",
       "\n",
       "    .dataframe tbody tr th {\n",
       "        vertical-align: top;\n",
       "    }\n",
       "\n",
       "    .dataframe thead th {\n",
       "        text-align: right;\n",
       "    }\n",
       "</style>\n",
       "<table border=\"1\" class=\"dataframe\">\n",
       "  <thead>\n",
       "    <tr style=\"text-align: right;\">\n",
       "      <th></th>\n",
       "      <th>step</th>\n",
       "      <th>type</th>\n",
       "      <th>amount</th>\n",
       "      <th>nameOrig</th>\n",
       "      <th>oldbalanceOrg</th>\n",
       "      <th>newbalanceOrig</th>\n",
       "      <th>nameDest</th>\n",
       "      <th>oldbalanceDest</th>\n",
       "      <th>newbalanceDest</th>\n",
       "      <th>isFraud</th>\n",
       "      <th>isFlaggedFraud</th>\n",
       "      <th>CASH_OUT</th>\n",
       "      <th>DEBIT</th>\n",
       "      <th>PAYMENT</th>\n",
       "      <th>TRANSFER</th>\n",
       "    </tr>\n",
       "  </thead>\n",
       "  <tbody>\n",
       "    <tr>\n",
       "      <th>0</th>\n",
       "      <td>1</td>\n",
       "      <td>PAYMENT</td>\n",
       "      <td>9839.64</td>\n",
       "      <td>C1231006815</td>\n",
       "      <td>170136.0</td>\n",
       "      <td>160296.36</td>\n",
       "      <td>M1979787155</td>\n",
       "      <td>0.0</td>\n",
       "      <td>0.0</td>\n",
       "      <td>0</td>\n",
       "      <td>0</td>\n",
       "      <td>0</td>\n",
       "      <td>0</td>\n",
       "      <td>1</td>\n",
       "      <td>0</td>\n",
       "    </tr>\n",
       "    <tr>\n",
       "      <th>1</th>\n",
       "      <td>1</td>\n",
       "      <td>PAYMENT</td>\n",
       "      <td>1864.28</td>\n",
       "      <td>C1666544295</td>\n",
       "      <td>21249.0</td>\n",
       "      <td>19384.72</td>\n",
       "      <td>M2044282225</td>\n",
       "      <td>0.0</td>\n",
       "      <td>0.0</td>\n",
       "      <td>0</td>\n",
       "      <td>0</td>\n",
       "      <td>0</td>\n",
       "      <td>0</td>\n",
       "      <td>1</td>\n",
       "      <td>0</td>\n",
       "    </tr>\n",
       "    <tr>\n",
       "      <th>2</th>\n",
       "      <td>1</td>\n",
       "      <td>TRANSFER</td>\n",
       "      <td>181.00</td>\n",
       "      <td>C1305486145</td>\n",
       "      <td>181.0</td>\n",
       "      <td>0.00</td>\n",
       "      <td>C553264065</td>\n",
       "      <td>0.0</td>\n",
       "      <td>0.0</td>\n",
       "      <td>1</td>\n",
       "      <td>0</td>\n",
       "      <td>0</td>\n",
       "      <td>0</td>\n",
       "      <td>0</td>\n",
       "      <td>1</td>\n",
       "    </tr>\n",
       "    <tr>\n",
       "      <th>3</th>\n",
       "      <td>1</td>\n",
       "      <td>CASH_OUT</td>\n",
       "      <td>181.00</td>\n",
       "      <td>C840083671</td>\n",
       "      <td>181.0</td>\n",
       "      <td>0.00</td>\n",
       "      <td>C38997010</td>\n",
       "      <td>21182.0</td>\n",
       "      <td>0.0</td>\n",
       "      <td>1</td>\n",
       "      <td>0</td>\n",
       "      <td>1</td>\n",
       "      <td>0</td>\n",
       "      <td>0</td>\n",
       "      <td>0</td>\n",
       "    </tr>\n",
       "    <tr>\n",
       "      <th>4</th>\n",
       "      <td>1</td>\n",
       "      <td>PAYMENT</td>\n",
       "      <td>11668.14</td>\n",
       "      <td>C2048537720</td>\n",
       "      <td>41554.0</td>\n",
       "      <td>29885.86</td>\n",
       "      <td>M1230701703</td>\n",
       "      <td>0.0</td>\n",
       "      <td>0.0</td>\n",
       "      <td>0</td>\n",
       "      <td>0</td>\n",
       "      <td>0</td>\n",
       "      <td>0</td>\n",
       "      <td>1</td>\n",
       "      <td>0</td>\n",
       "    </tr>\n",
       "  </tbody>\n",
       "</table>\n",
       "</div>"
      ],
      "text/plain": [
       "   step      type    amount     nameOrig  oldbalanceOrg  newbalanceOrig  \\\n",
       "0     1   PAYMENT   9839.64  C1231006815       170136.0       160296.36   \n",
       "1     1   PAYMENT   1864.28  C1666544295        21249.0        19384.72   \n",
       "2     1  TRANSFER    181.00  C1305486145          181.0            0.00   \n",
       "3     1  CASH_OUT    181.00   C840083671          181.0            0.00   \n",
       "4     1   PAYMENT  11668.14  C2048537720        41554.0        29885.86   \n",
       "\n",
       "      nameDest  oldbalanceDest  newbalanceDest  isFraud  isFlaggedFraud  \\\n",
       "0  M1979787155             0.0             0.0        0               0   \n",
       "1  M2044282225             0.0             0.0        0               0   \n",
       "2   C553264065             0.0             0.0        1               0   \n",
       "3    C38997010         21182.0             0.0        1               0   \n",
       "4  M1230701703             0.0             0.0        0               0   \n",
       "\n",
       "   CASH_OUT  DEBIT  PAYMENT  TRANSFER  \n",
       "0         0      0        1         0  \n",
       "1         0      0        1         0  \n",
       "2         0      0        0         1  \n",
       "3         1      0        0         0  \n",
       "4         0      0        1         0  "
      ]
     },
     "execution_count": 13,
     "metadata": {},
     "output_type": "execute_result"
    }
   ],
   "source": [
    "type_new = pd.get_dummies(data['type'], drop_first=True)\n",
    "data_new = pd.concat([data, type_new], axis=1)\n",
    "data_new.head()"
   ]
  },
  {
   "cell_type": "code",
   "execution_count": 14,
   "id": "63cac1c2",
   "metadata": {},
   "outputs": [],
   "source": [
    "# drop the irrelevant columns\n",
    "X = data_new.drop(['isFraud', 'type', 'nameOrig', 'nameDest'], axis=1)\n",
    "y = data_new['isFraud']"
   ]
  },
  {
   "cell_type": "code",
   "execution_count": 15,
   "id": "f1cc97bc",
   "metadata": {},
   "outputs": [
    {
     "data": {
      "text/plain": [
       "((6362620, 11), (6362620,))"
      ]
     },
     "execution_count": 15,
     "metadata": {},
     "output_type": "execute_result"
    }
   ],
   "source": [
    "X.shape, y.shape"
   ]
  },
  {
   "cell_type": "code",
   "execution_count": 16,
   "id": "2f1a23e1",
   "metadata": {},
   "outputs": [],
   "source": [
    "# split the data into 2 parts : Training and Testing.\n",
    "from sklearn.model_selection import train_test_split\n",
    "X_train, X_test, y_train, y_test = train_test_split(\n",
    "    X, y, test_size=0.3, random_state=42)"
   ]
  },
  {
   "cell_type": "markdown",
   "id": "cd3f452f",
   "metadata": {},
   "source": [
    "# Model Training"
   ]
  },
  {
   "cell_type": "markdown",
   "id": "3557eeb0",
   "metadata": {},
   "source": [
    "LogisticRegression , Decision Tree, RandomForestClassifier"
   ]
  },
  {
   "cell_type": "code",
   "execution_count": 17,
   "id": "7f64661e",
   "metadata": {},
   "outputs": [],
   "source": [
    "# importing modules\n",
    "from sklearn.metrics import roc_auc_score as ras\n",
    "from sklearn.linear_model import LogisticRegression\n",
    "from sklearn.ensemble import RandomForestClassifier\n",
    "from sklearn.tree import DecisionTreeClassifier"
   ]
  },
  {
   "cell_type": "markdown",
   "id": "c6f5fc99",
   "metadata": {},
   "source": [
    "Random Forest"
   ]
  },
  {
   "cell_type": "code",
   "execution_count": 18,
   "id": "0e684227",
   "metadata": {},
   "outputs": [
    {
     "name": "stdout",
     "output_type": "stream",
     "text": [
      "Random Forest:\n",
      "Training Accuracy :  0.9999992846155892\n",
      "Validation Accuracy :  0.9635718404867615\n"
     ]
    }
   ],
   "source": [
    "# train the model\n",
    "# random forest\n",
    "rf_model = RandomForestClassifier(n_estimators=7, criterion='entropy', random_state=7)\n",
    "rf_model.fit(X_train, y_train)\n",
    "\n",
    "print(\"Random Forest:\")\n",
    "train_preds = rf_model.predict_proba(X_train)[:, 1]\n",
    "rf_training_accuracy = ras(y_train, train_preds)\n",
    "print('Training Accuracy : ', rf_training_accuracy)\n",
    "# print('Training Accuracy : ', ras(y_train, train_preds))\n",
    "\n",
    "y_preds = rf_model.predict_proba(X_test)[:, 1]\n",
    "rf_validation_accuracy = ras(y_test, y_preds)\n",
    "print('Validation Accuracy : ', rf_validation_accuracy)\n",
    "# print('Validation Accuracy : ', ras(y_test, y_preds))"
   ]
  },
  {
   "cell_type": "markdown",
   "id": "cfa00703",
   "metadata": {},
   "source": [
    "Logistic Regression"
   ]
  },
  {
   "cell_type": "code",
   "execution_count": 19,
   "id": "f2581498",
   "metadata": {},
   "outputs": [
    {
     "name": "stdout",
     "output_type": "stream",
     "text": [
      "Logistic Regression: \n",
      "Training Accuracy :  0.8873986280485237\n",
      "Validation Accuracy :  0.884995827149426\n"
     ]
    }
   ],
   "source": [
    "# LogisticRegression()\n",
    "lr_model = LogisticRegression()\n",
    "lr_model.fit(X_train, y_train)\n",
    "\n",
    "print(\"Logistic Regression: \")\n",
    "train_preds = lr_model.predict_proba(X_train)[:, 1]\n",
    "lr_training_accuracy = ras(y_train, train_preds)\n",
    "print('Training Accuracy : ', lr_training_accuracy)\n",
    "# print('Training Accuracy : ', ras(y_train, train_preds))\n",
    "\n",
    "y_preds = lr_model.predict_proba(X_test)[:, 1]\n",
    "lr_validation_accuracy = ras(y_test, y_preds)\n",
    "print('Validation Accuracy : ', lr_validation_accuracy)\n",
    "# print('Validation Accuracy : ', ras(y_test, y_preds))"
   ]
  },
  {
   "cell_type": "markdown",
   "id": "3b7f8880",
   "metadata": {},
   "source": [
    "Decision Tree"
   ]
  },
  {
   "cell_type": "code",
   "execution_count": 20,
   "id": "84f089d1",
   "metadata": {},
   "outputs": [
    {
     "name": "stdout",
     "output_type": "stream",
     "text": [
      "Decision Tree: \n",
      "Training Accuracy :  1.0\n",
      "Validation Accuracy :  0.9389464428896231\n"
     ]
    }
   ],
   "source": [
    "# Decision Tree\n",
    "dt_model = DecisionTreeClassifier()\n",
    "dt_model.fit(X_train, y_train)\n",
    "\n",
    "print(\"Decision Tree: \")\n",
    "train_preds = dt_model.predict_proba(X_train)[:, 1]\n",
    "dt_training_accuracy = ras(y_train, train_preds)\n",
    "print('Training Accuracy : ', dt_training_accuracy)\n",
    "# print('Training Accuracy : ', ras(y_train, train_preds))\n",
    "\n",
    "y_preds = dt_model.predict_proba(X_test)[:, 1]\n",
    "dt_validation_accuracy = ras(y_test, y_preds)\n",
    "print('Validation Accuracy : ', dt_validation_accuracy)\n",
    "# print('Validation Accuracy : ', ras(y_test, y_preds))"
   ]
  },
  {
   "cell_type": "code",
   "execution_count": 21,
   "id": "4b06f1cb",
   "metadata": {},
   "outputs": [
    {
     "data": {
      "text/plain": [
       "<BarContainer object of 3 artists>"
      ]
     },
     "execution_count": 21,
     "metadata": {},
     "output_type": "execute_result"
    },
    {
     "data": {
      "image/png": "[encoded data removed]",
      "text/plain": [
       "<Figure size 2000x300 with 1 Axes>"
      ]
     },
     "metadata": {},
     "output_type": "display_data"
    }
   ],
   "source": [
    "# bar plot for training accuracy of the three models\n",
    "names = ['RandomForest', 'LogisticRegression', 'DecisionTree']\n",
    "values = [0.9999992846155892, 0.8873986280485237, 1.0]\n",
    "f = plt.figure(figsize =(20, 3), num = 10)\n",
    "plt.subplot(131)\n",
    "plt.title(\"training_accuracy\")\n",
    "plt.bar(names, values)"
   ]
  },
  {
   "cell_type": "code",
   "execution_count": 22,
   "id": "db359069",
   "metadata": {},
   "outputs": [
    {
     "data": {
      "text/plain": [
       "<BarContainer object of 3 artists>"
      ]
     },
     "execution_count": 22,
     "metadata": {},
     "output_type": "execute_result"
    },
    {
     "data": {
      "image/png": "[encoded data removed]",
      "text/plain": [
       "<Figure size 2000x300 with 1 Axes>"
      ]
     },
     "metadata": {},
     "output_type": "display_data"
    }
   ],
   "source": [
    "# bar plot for testing accuracy of the two models\n",
    "names = ['RandomForest', 'LogisticRegression', 'Decision Tree']\n",
    "values = [0.9635718404867615, 0.884995827149426, 0.9387392681122906]\n",
    "f = plt.figure(figsize =(20, 3), num = 10)\n",
    "plt.subplot(131)\n",
    "plt.title(\"testing_accuracy\")\n",
    "plt.bar(names, values)"
   ]
  },
  {
   "cell_type": "markdown",
   "id": "f8bca74b",
   "metadata": {},
   "source": [
    "Ensemble Learning"
   ]
  },
  {
   "cell_type": "code",
   "execution_count": 23,
   "id": "083ac6a9",
   "metadata": {},
   "outputs": [
    {
     "name": "stdout",
     "output_type": "stream",
     "text": [
      "VotingClassifier(estimators=[('rf',\n",
      "                              RandomForestClassifier(criterion='entropy',\n",
      "                                                     n_estimators=7,\n",
      "                                                     random_state=7)),\n",
      "                             ('lr', LogisticRegression()),\n",
      "                             ('dt', DecisionTreeClassifier())])\n"
     ]
    }
   ],
   "source": [
    "# ensemble learning\n",
    "from sklearn.ensemble import VotingClassifier\n",
    "clf_voting_model = VotingClassifier(estimators=[('rf', rf_model), ('lr', lr_model), ('dt', dt_model)], voting='hard')\n",
    "clf_voting_training_accuracy = VotingClassifier(estimators=[('rf', rf_training_accuracy), ('lr', lr_training_accuracy), ('dt', dt_training_accuracy)], voting='hard')\n",
    "clf_voting_validation_accuracy = VotingClassifier(estimators=[('rf', rf_validation_accuracy), ('lr', lr_validation_accuracy), ('dt', dt_validation_accuracy)], voting='hard')\n",
    "\n",
    "clf_voting_model.fit(X_train, y_train.astype(int))\n",
    "print(clf_voting_model)\n"
   ]
  },
  {
   "cell_type": "code",
   "execution_count": 24,
   "id": "410ca72f",
   "metadata": {},
   "outputs": [
    {
     "name": "stdout",
     "output_type": "stream",
     "text": [
      "Overall accuracy of the model:  0.9997144782076147\n"
     ]
    }
   ],
   "source": [
    "mean_accuracy = clf_voting_model.score(X_test, y_test)\n",
    "print(\"Overall accuracy of the model: \", mean_accuracy)"
   ]
  },
  {
   "cell_type": "code",
   "execution_count": null,
   "id": "b951b9c0",
   "metadata": {},
   "outputs": [],
   "source": []
  },
  {
   "cell_type": "code",
   "execution_count": null,
   "id": "11b5f90f",
   "metadata": {},
   "outputs": [],
   "source": []
  },
  {
   "cell_type": "markdown",
   "id": "fe616ec8",
   "metadata": {},
   "source": [
    "# END OF THE PROJECT"
   ]
  },
  {
   "cell_type": "code",
   "execution_count": null,
   "id": "fd1179f8",
   "metadata": {},
   "outputs": [],
   "source": []
  }
 ],
 "metadata": {
  "kernelspec": {
   "display_name": "Python 3 (ipykernel)",
   "language": "python",
   "name": "python3"
  },
  "language_info": {
   "codemirror_mode": {
    "name": "ipython",
    "version": 3
   },
   "file_extension": ".py",
   "mimetype": "text/x-python",
   "name": "python",
   "nbconvert_exporter": "python",
   "pygments_lexer": "ipython3",
   "version": "3.10.9"
  }
 },
 "nbformat": 4,
 "nbformat_minor": 5
}
